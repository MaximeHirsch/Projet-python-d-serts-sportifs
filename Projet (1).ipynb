{
 "cells": [
  {
   "cell_type": "code",
   "execution_count": 58,
   "id": "fa75cf83-0d12-46ca-aac0-28c94bccc294",
   "metadata": {},
   "outputs": [
    {
     "name": "stdout",
     "output_type": "stream",
     "text": [
      "Requirement already satisfied: cartiflette in /opt/python/lib/python3.13/site-packages (0.1.9)\n",
      "Requirement already satisfied: geopandas>=1.0.1 in /opt/python/lib/python3.13/site-packages (from cartiflette) (1.1.1)\n",
      "Requirement already satisfied: platformdirs>=4.3.6 in /opt/python/lib/python3.13/site-packages (from cartiflette) (4.5.0)\n",
      "Requirement already satisfied: requests-cache>=1.2.1 in /opt/python/lib/python3.13/site-packages (from cartiflette) (1.2.1)\n",
      "Requirement already satisfied: requests>=2.32.3 in /opt/python/lib/python3.13/site-packages (from cartiflette) (2.32.5)\n",
      "Requirement already satisfied: tqdm>=4.67.1 in /opt/python/lib/python3.13/site-packages (from cartiflette) (4.67.1)\n",
      "Requirement already satisfied: numpy>=1.24 in /opt/python/lib/python3.13/site-packages (from geopandas>=1.0.1->cartiflette) (2.3.3)\n",
      "Requirement already satisfied: pyogrio>=0.7.2 in /opt/python/lib/python3.13/site-packages (from geopandas>=1.0.1->cartiflette) (0.11.1)\n",
      "Requirement already satisfied: packaging in /opt/python/lib/python3.13/site-packages (from geopandas>=1.0.1->cartiflette) (25.0)\n",
      "Requirement already satisfied: pandas>=2.0.0 in /opt/python/lib/python3.13/site-packages (from geopandas>=1.0.1->cartiflette) (2.3.3)\n",
      "Requirement already satisfied: pyproj>=3.5.0 in /opt/python/lib/python3.13/site-packages (from geopandas>=1.0.1->cartiflette) (3.7.2)\n",
      "Requirement already satisfied: shapely>=2.0.0 in /opt/python/lib/python3.13/site-packages (from geopandas>=1.0.1->cartiflette) (2.1.2)\n",
      "Requirement already satisfied: python-dateutil>=2.8.2 in /opt/python/lib/python3.13/site-packages (from pandas>=2.0.0->geopandas>=1.0.1->cartiflette) (2.9.0.post0)\n",
      "Requirement already satisfied: pytz>=2020.1 in /opt/python/lib/python3.13/site-packages (from pandas>=2.0.0->geopandas>=1.0.1->cartiflette) (2025.2)\n",
      "Requirement already satisfied: tzdata>=2022.7 in /opt/python/lib/python3.13/site-packages (from pandas>=2.0.0->geopandas>=1.0.1->cartiflette) (2025.2)\n",
      "Requirement already satisfied: certifi in /opt/python/lib/python3.13/site-packages (from pyogrio>=0.7.2->geopandas>=1.0.1->cartiflette) (2025.10.5)\n",
      "Requirement already satisfied: six>=1.5 in /opt/python/lib/python3.13/site-packages (from python-dateutil>=2.8.2->pandas>=2.0.0->geopandas>=1.0.1->cartiflette) (1.17.0)\n",
      "Requirement already satisfied: charset_normalizer<4,>=2 in /opt/python/lib/python3.13/site-packages (from requests>=2.32.3->cartiflette) (3.4.3)\n",
      "Requirement already satisfied: idna<4,>=2.5 in /opt/python/lib/python3.13/site-packages (from requests>=2.32.3->cartiflette) (3.11)\n",
      "Requirement already satisfied: urllib3<3,>=1.21.1 in /opt/python/lib/python3.13/site-packages (from requests>=2.32.3->cartiflette) (2.5.0)\n",
      "Requirement already satisfied: attrs>=21.2 in /opt/python/lib/python3.13/site-packages (from requests-cache>=1.2.1->cartiflette) (25.4.0)\n",
      "Requirement already satisfied: cattrs>=22.2 in /opt/python/lib/python3.13/site-packages (from requests-cache>=1.2.1->cartiflette) (25.3.0)\n",
      "Requirement already satisfied: url-normalize>=1.4 in /opt/python/lib/python3.13/site-packages (from requests-cache>=1.2.1->cartiflette) (2.2.1)\n",
      "Requirement already satisfied: typing-extensions>=4.14.0 in /opt/python/lib/python3.13/site-packages (from cattrs>=22.2->requests-cache>=1.2.1->cartiflette) (4.15.0)\n",
      "Collecting topojson\n",
      "  Downloading topojson-1.10-py3-none-any.whl.metadata (5.0 kB)\n",
      "Requirement already satisfied: numpy in /opt/python/lib/python3.13/site-packages (from topojson) (2.3.3)\n",
      "Requirement already satisfied: shapely in /opt/python/lib/python3.13/site-packages (from topojson) (2.1.2)\n",
      "Requirement already satisfied: packaging in /opt/python/lib/python3.13/site-packages (from topojson) (25.0)\n",
      "Downloading topojson-1.10-py3-none-any.whl (83 kB)\n",
      "Installing collected packages: topojson\n",
      "Successfully installed topojson-1.10\n"
     ]
    }
   ],
   "source": [
    "!pip install cartiflette\n",
    "!pip install topojson\n",
    "\n",
    "import numpy as np\n",
    "import numpy.linalg as al\n",
    "import matplotlib.pyplot as plt \n",
    "import pandas as pd\n",
    "import geopandas as gpd\n",
    "from cartiflette import carti_download"
   ]
  },
  {
   "cell_type": "code",
   "execution_count": 22,
   "id": "c2d28759-02c8-4990-857b-a44bdd044953",
   "metadata": {},
   "outputs": [
    {
     "data": {
      "text/plain": [
       "Index(['Numéro de l'équipement sportif', 'Numéro de l'installation sportive',\n",
       "       'Date de l'enquête', 'Nom de l'installation sportive',\n",
       "       'SIRET Installation', 'Adresse', 'Code Postal', 'Commune nom',\n",
       "       'Commune INSEE', 'Type de particularité de l'installation',\n",
       "       ...\n",
       "       'Accessibilité aux personnes en situation de handicap sensoriel - signalétique',\n",
       "       'Accessibilité aux personnes en situation de handicap sensoriel aux tribunes',\n",
       "       'Accessibilité aux personnes en situation de handicap sensoriel aux vestiaires',\n",
       "       'Longitude', 'Latitude',\n",
       "       'Type de particularité de l'installation (brute)', 'Activités', 'QPV',\n",
       "       'QPV à 200 mètres', 'Catégorie'],\n",
       "      dtype='object', length=116)"
      ]
     },
     "execution_count": 22,
     "metadata": {},
     "output_type": "execute_result"
    }
   ],
   "source": [
    "#Chargement dataframe initial\n",
    "\n",
    "url = \"https://data.sports.gouv.fr/api/explore/v2.1/catalog/datasets/equipements-sportifs/exports/csv?lang=fr&timezone=Europe%2FBerlin&use_labels=true&delimiter=%3B\"\n",
    "equipement = pd.read_csv(url, sep=\";\", low_memory=False)"
   ]
  },
  {
   "cell_type": "code",
   "execution_count": null,
   "id": "18480b3b-59f6-4515-9d5b-9bed7c31409b",
   "metadata": {},
   "outputs": [],
   "source": [
    "#On conserve seulement les variables qui peuvent nous intéresser \n",
    "\n",
    "equipement.columns[:60]\n",
    "cols = [\"Nom de l'installation sportive\", \"Code Postal\", \"Commune nom\", \"Commune INSEE\", \"Département Code\", \"Département Nom\", \"Densite Catégorie\", \"Nom de l'équipement sportif\", \"Type d'équipement sportif\", \"Longitude\", \"Latitude\"]\n",
    "equipement = equipement[cols]\n",
    "equipement.head(6)"
   ]
  },
  {
   "cell_type": "code",
   "execution_count": 61,
   "id": "29df3b85-b4b0-40bb-87aa-26f3825edb04",
   "metadata": {},
   "outputs": [
    {
     "name": "stderr",
     "output_type": "stream",
     "text": [
      "/opt/python/lib/python3.13/site-packages/pyogrio/raw.py:198: RuntimeWarning: Invalid range specified \n",
      "  return ogr_read(\n"
     ]
    },
    {
     "ename": "DataSourceError",
     "evalue": "id INSEE_DEP    PAYS LIBELLE_DEPARTEMENT  POPULATION  \\0    None        43  France         Haute-Loire      227570   1    None        65  France     Hautes-Pyrénées      229567   2    None        29  France           Finistère      915090   3    None        22  France       Côtes-d'Armor      600582   4    None        38  France               Isère     1271166   ..    ...       ...     ...                 ...         ...   100  None       971  France          Guadeloupe      384239   101  None       972  France          Martinique      364508   102  None       973  France              Guyane      281678   103  None       974  France          La Réunion      861210   104  None       976  France             Mayotte      256518                                  SOURCE  \\0    IGN:EXPRESS-COG-CARTO-TERRITOIRE   1    IGN:EXPRESS-COG-CARTO-TERRITOIRE   2    IGN:EXPRESS-COG-CARTO-TERRITOIRE   3    IGN:EXPRESS-COG-CARTO-TERRITOIRE   4    IGN:EXPRESS-COG-CARTO-TERRITOIRE   ..                                ...   100  IGN:EXPRESS-COG-CARTO-TERRITOIRE   101  IGN:EXPRESS-COG-CARTO-TERRITOIRE   102  IGN:EXPRESS-COG-CARTO-TERRITOIRE   103  IGN:EXPRESS-COG-CARTO-TERRITOIRE   104  IGN:EXPRESS-COG-CARTO-TERRITOIRE                                                 geometry  0    POLYGON ((3.89745 45.357, 3.89816 45.35682, 3....  1    MULTIPOLYGON (((-0.09706 43.5822, -0.09734 43....  2    MULTIPOLYGON (((-3.97906 47.70396, -3.97949 47...  3    MULTIPOLYGON (((-3.20175 48.85197, -3.20213 48...  4    POLYGON ((5.1015 45.81356, 5.10373 45.81392, 5...  ..                                                 ...  100  MULTIPOLYGON (((-4.64883 42.07408, -4.64826 42...  101  MULTIPOLYGON (((-2.67817 42.05178, -2.67831 42...  102  MULTIPOLYGON (((-0.8533 42.0536, -0.85235 42.0...  103  MULTIPOLYGON (((0.5171 41.79834, 0.51651 41.79...  104  MULTIPOLYGON (((1.16308 41.77052, 1.16196 41.7...  [105 rows x 7 columns]: File name too long",
     "output_type": "error",
     "traceback": [
      "\u001b[31m---------------------------------------------------------------------------\u001b[39m",
      "\u001b[31mDataSourceError\u001b[39m                           Traceback (most recent call last)",
      "\u001b[36mCell\u001b[39m\u001b[36m \u001b[39m\u001b[32mIn[61]\u001b[39m\u001b[32m, line 25\u001b[39m\n\u001b[32m     14\u001b[39m shp_communes = carti_download(\n\u001b[32m     15\u001b[39m       values = [\u001b[33m\"\u001b[39m\u001b[33mFrance\u001b[39m\u001b[33m\"\u001b[39m],\n\u001b[32m     16\u001b[39m       crs = \u001b[32m4326\u001b[39m,\n\u001b[32m   (...)\u001b[39m\u001b[32m     21\u001b[39m       source=\u001b[33m\"\u001b[39m\u001b[33mEXPRESS-COG-CARTO-TERRITOIRE\u001b[39m\u001b[33m\"\u001b[39m,\n\u001b[32m     22\u001b[39m       year=\u001b[32m2022\u001b[39m)\n\u001b[32m     24\u001b[39m \u001b[38;5;66;03m# 2) Charger\u001b[39;00m\n\u001b[32m---> \u001b[39m\u001b[32m25\u001b[39m gdf_france = \u001b[43mgpd\u001b[49m\u001b[43m.\u001b[49m\u001b[43mread_file\u001b[49m\u001b[43m(\u001b[49m\u001b[43mshp_communes\u001b[49m\u001b[43m)\u001b[49m          \u001b[38;5;66;03m# engine auto (pyogrio)\u001b[39;00m\n\u001b[32m     26\u001b[39m \u001b[38;5;66;03m# gdf_france = gpd.read_file(shp_communes, engine=\"fiona\")  # si besoin\u001b[39;00m\n",
      "\u001b[36mFile \u001b[39m\u001b[32m/opt/python/lib/python3.13/site-packages/geopandas/io/file.py:316\u001b[39m, in \u001b[36m_read_file\u001b[39m\u001b[34m(filename, bbox, mask, columns, rows, engine, **kwargs)\u001b[39m\n\u001b[32m    313\u001b[39m             filename = response.read()\n\u001b[32m    315\u001b[39m \u001b[38;5;28;01mif\u001b[39;00m engine == \u001b[33m\"\u001b[39m\u001b[33mpyogrio\u001b[39m\u001b[33m\"\u001b[39m:\n\u001b[32m--> \u001b[39m\u001b[32m316\u001b[39m     \u001b[38;5;28;01mreturn\u001b[39;00m \u001b[43m_read_file_pyogrio\u001b[49m\u001b[43m(\u001b[49m\n\u001b[32m    317\u001b[39m \u001b[43m        \u001b[49m\u001b[43mfilename\u001b[49m\u001b[43m,\u001b[49m\u001b[43m \u001b[49m\u001b[43mbbox\u001b[49m\u001b[43m=\u001b[49m\u001b[43mbbox\u001b[49m\u001b[43m,\u001b[49m\u001b[43m \u001b[49m\u001b[43mmask\u001b[49m\u001b[43m=\u001b[49m\u001b[43mmask\u001b[49m\u001b[43m,\u001b[49m\u001b[43m \u001b[49m\u001b[43mcolumns\u001b[49m\u001b[43m=\u001b[49m\u001b[43mcolumns\u001b[49m\u001b[43m,\u001b[49m\u001b[43m \u001b[49m\u001b[43mrows\u001b[49m\u001b[43m=\u001b[49m\u001b[43mrows\u001b[49m\u001b[43m,\u001b[49m\u001b[43m \u001b[49m\u001b[43m*\u001b[49m\u001b[43m*\u001b[49m\u001b[43mkwargs\u001b[49m\n\u001b[32m    318\u001b[39m \u001b[43m    \u001b[49m\u001b[43m)\u001b[49m\n\u001b[32m    320\u001b[39m \u001b[38;5;28;01melif\u001b[39;00m engine == \u001b[33m\"\u001b[39m\u001b[33mfiona\u001b[39m\u001b[33m\"\u001b[39m:\n\u001b[32m    321\u001b[39m     \u001b[38;5;28;01mif\u001b[39;00m pd.api.types.is_file_like(filename):\n",
      "\u001b[36mFile \u001b[39m\u001b[32m/opt/python/lib/python3.13/site-packages/geopandas/io/file.py:576\u001b[39m, in \u001b[36m_read_file_pyogrio\u001b[39m\u001b[34m(path_or_bytes, bbox, mask, rows, **kwargs)\u001b[39m\n\u001b[32m    567\u001b[39m     warnings.warn(\n\u001b[32m    568\u001b[39m         \u001b[33m\"\u001b[39m\u001b[33mThe \u001b[39m\u001b[33m'\u001b[39m\u001b[33minclude_fields\u001b[39m\u001b[33m'\u001b[39m\u001b[33m and \u001b[39m\u001b[33m'\u001b[39m\u001b[33mignore_fields\u001b[39m\u001b[33m'\u001b[39m\u001b[33m keywords are deprecated, and \u001b[39m\u001b[33m\"\u001b[39m\n\u001b[32m    569\u001b[39m         \u001b[33m\"\u001b[39m\u001b[33mwill be removed in a future release. You can use the \u001b[39m\u001b[33m'\u001b[39m\u001b[33mcolumns\u001b[39m\u001b[33m'\u001b[39m\u001b[33m keyword \u001b[39m\u001b[33m\"\u001b[39m\n\u001b[32m   (...)\u001b[39m\u001b[32m    572\u001b[39m         stacklevel=\u001b[32m3\u001b[39m,\n\u001b[32m    573\u001b[39m     )\n\u001b[32m    574\u001b[39m     kwargs[\u001b[33m\"\u001b[39m\u001b[33mcolumns\u001b[39m\u001b[33m\"\u001b[39m] = kwargs.pop(\u001b[33m\"\u001b[39m\u001b[33minclude_fields\u001b[39m\u001b[33m\"\u001b[39m)\n\u001b[32m--> \u001b[39m\u001b[32m576\u001b[39m \u001b[38;5;28;01mreturn\u001b[39;00m \u001b[43mpyogrio\u001b[49m\u001b[43m.\u001b[49m\u001b[43mread_dataframe\u001b[49m\u001b[43m(\u001b[49m\u001b[43mpath_or_bytes\u001b[49m\u001b[43m,\u001b[49m\u001b[43m \u001b[49m\u001b[43mbbox\u001b[49m\u001b[43m=\u001b[49m\u001b[43mbbox\u001b[49m\u001b[43m,\u001b[49m\u001b[43m \u001b[49m\u001b[43m*\u001b[49m\u001b[43m*\u001b[49m\u001b[43mkwargs\u001b[49m\u001b[43m)\u001b[49m\n",
      "\u001b[36mFile \u001b[39m\u001b[32m/opt/python/lib/python3.13/site-packages/pyogrio/geopandas.py:275\u001b[39m, in \u001b[36mread_dataframe\u001b[39m\u001b[34m(path_or_buffer, layer, encoding, columns, read_geometry, force_2d, skip_features, max_features, where, bbox, mask, fids, sql, sql_dialect, fid_as_index, use_arrow, on_invalid, arrow_to_pandas_kwargs, **kwargs)\u001b[39m\n\u001b[32m    270\u001b[39m \u001b[38;5;28;01mif\u001b[39;00m \u001b[38;5;129;01mnot\u001b[39;00m use_arrow:\n\u001b[32m    271\u001b[39m     \u001b[38;5;66;03m# For arrow, datetimes are read as is.\u001b[39;00m\n\u001b[32m    272\u001b[39m     \u001b[38;5;66;03m# For numpy IO, datetimes are read as string values to preserve timezone info\u001b[39;00m\n\u001b[32m    273\u001b[39m     \u001b[38;5;66;03m# as numpy does not directly support timezones.\u001b[39;00m\n\u001b[32m    274\u001b[39m     kwargs[\u001b[33m\"\u001b[39m\u001b[33mdatetime_as_string\u001b[39m\u001b[33m\"\u001b[39m] = \u001b[38;5;28;01mTrue\u001b[39;00m\n\u001b[32m--> \u001b[39m\u001b[32m275\u001b[39m result = \u001b[43mread_func\u001b[49m\u001b[43m(\u001b[49m\n\u001b[32m    276\u001b[39m \u001b[43m    \u001b[49m\u001b[43mpath_or_buffer\u001b[49m\u001b[43m,\u001b[49m\n\u001b[32m    277\u001b[39m \u001b[43m    \u001b[49m\u001b[43mlayer\u001b[49m\u001b[43m=\u001b[49m\u001b[43mlayer\u001b[49m\u001b[43m,\u001b[49m\n\u001b[32m    278\u001b[39m \u001b[43m    \u001b[49m\u001b[43mencoding\u001b[49m\u001b[43m=\u001b[49m\u001b[43mencoding\u001b[49m\u001b[43m,\u001b[49m\n\u001b[32m    279\u001b[39m \u001b[43m    \u001b[49m\u001b[43mcolumns\u001b[49m\u001b[43m=\u001b[49m\u001b[43mcolumns\u001b[49m\u001b[43m,\u001b[49m\n\u001b[32m    280\u001b[39m \u001b[43m    \u001b[49m\u001b[43mread_geometry\u001b[49m\u001b[43m=\u001b[49m\u001b[43mread_geometry\u001b[49m\u001b[43m,\u001b[49m\n\u001b[32m    281\u001b[39m \u001b[43m    \u001b[49m\u001b[43mforce_2d\u001b[49m\u001b[43m=\u001b[49m\u001b[43mgdal_force_2d\u001b[49m\u001b[43m,\u001b[49m\n\u001b[32m    282\u001b[39m \u001b[43m    \u001b[49m\u001b[43mskip_features\u001b[49m\u001b[43m=\u001b[49m\u001b[43mskip_features\u001b[49m\u001b[43m,\u001b[49m\n\u001b[32m    283\u001b[39m \u001b[43m    \u001b[49m\u001b[43mmax_features\u001b[49m\u001b[43m=\u001b[49m\u001b[43mmax_features\u001b[49m\u001b[43m,\u001b[49m\n\u001b[32m    284\u001b[39m \u001b[43m    \u001b[49m\u001b[43mwhere\u001b[49m\u001b[43m=\u001b[49m\u001b[43mwhere\u001b[49m\u001b[43m,\u001b[49m\n\u001b[32m    285\u001b[39m \u001b[43m    \u001b[49m\u001b[43mbbox\u001b[49m\u001b[43m=\u001b[49m\u001b[43mbbox\u001b[49m\u001b[43m,\u001b[49m\n\u001b[32m    286\u001b[39m \u001b[43m    \u001b[49m\u001b[43mmask\u001b[49m\u001b[43m=\u001b[49m\u001b[43mmask\u001b[49m\u001b[43m,\u001b[49m\n\u001b[32m    287\u001b[39m \u001b[43m    \u001b[49m\u001b[43mfids\u001b[49m\u001b[43m=\u001b[49m\u001b[43mfids\u001b[49m\u001b[43m,\u001b[49m\n\u001b[32m    288\u001b[39m \u001b[43m    \u001b[49m\u001b[43msql\u001b[49m\u001b[43m=\u001b[49m\u001b[43msql\u001b[49m\u001b[43m,\u001b[49m\n\u001b[32m    289\u001b[39m \u001b[43m    \u001b[49m\u001b[43msql_dialect\u001b[49m\u001b[43m=\u001b[49m\u001b[43msql_dialect\u001b[49m\u001b[43m,\u001b[49m\n\u001b[32m    290\u001b[39m \u001b[43m    \u001b[49m\u001b[43mreturn_fids\u001b[49m\u001b[43m=\u001b[49m\u001b[43mfid_as_index\u001b[49m\u001b[43m,\u001b[49m\n\u001b[32m    291\u001b[39m \u001b[43m    \u001b[49m\u001b[43m*\u001b[49m\u001b[43m*\u001b[49m\u001b[43mkwargs\u001b[49m\u001b[43m,\u001b[49m\n\u001b[32m    292\u001b[39m \u001b[43m\u001b[49m\u001b[43m)\u001b[49m\n\u001b[32m    294\u001b[39m \u001b[38;5;28;01mif\u001b[39;00m use_arrow:\n\u001b[32m    295\u001b[39m     \u001b[38;5;28;01mimport\u001b[39;00m\u001b[38;5;250m \u001b[39m\u001b[34;01mpyarrow\u001b[39;00m\u001b[38;5;250m \u001b[39m\u001b[38;5;28;01mas\u001b[39;00m\u001b[38;5;250m \u001b[39m\u001b[34;01mpa\u001b[39;00m\n",
      "\u001b[36mFile \u001b[39m\u001b[32m/opt/python/lib/python3.13/site-packages/pyogrio/raw.py:198\u001b[39m, in \u001b[36mread\u001b[39m\u001b[34m(path_or_buffer, layer, encoding, columns, read_geometry, force_2d, skip_features, max_features, where, bbox, mask, fids, sql, sql_dialect, return_fids, datetime_as_string, **kwargs)\u001b[39m\n\u001b[32m     59\u001b[39m \u001b[38;5;250m\u001b[39m\u001b[33;03m\"\"\"Read OGR data source into numpy arrays.\u001b[39;00m\n\u001b[32m     60\u001b[39m \n\u001b[32m     61\u001b[39m \u001b[33;03mIMPORTANT: non-linear geometry types (e.g., MultiSurface) are converted\u001b[39;00m\n\u001b[32m   (...)\u001b[39m\u001b[32m    194\u001b[39m \n\u001b[32m    195\u001b[39m \u001b[33;03m\"\"\"\u001b[39;00m\n\u001b[32m    196\u001b[39m dataset_kwargs = _preprocess_options_key_value(kwargs) \u001b[38;5;28;01mif\u001b[39;00m kwargs \u001b[38;5;28;01melse\u001b[39;00m {}\n\u001b[32m--> \u001b[39m\u001b[32m198\u001b[39m \u001b[38;5;28;01mreturn\u001b[39;00m \u001b[43mogr_read\u001b[49m\u001b[43m(\u001b[49m\n\u001b[32m    199\u001b[39m \u001b[43m    \u001b[49m\u001b[43mget_vsi_path_or_buffer\u001b[49m\u001b[43m(\u001b[49m\u001b[43mpath_or_buffer\u001b[49m\u001b[43m)\u001b[49m\u001b[43m,\u001b[49m\n\u001b[32m    200\u001b[39m \u001b[43m    \u001b[49m\u001b[43mlayer\u001b[49m\u001b[43m=\u001b[49m\u001b[43mlayer\u001b[49m\u001b[43m,\u001b[49m\n\u001b[32m    201\u001b[39m \u001b[43m    \u001b[49m\u001b[43mencoding\u001b[49m\u001b[43m=\u001b[49m\u001b[43mencoding\u001b[49m\u001b[43m,\u001b[49m\n\u001b[32m    202\u001b[39m \u001b[43m    \u001b[49m\u001b[43mcolumns\u001b[49m\u001b[43m=\u001b[49m\u001b[43mcolumns\u001b[49m\u001b[43m,\u001b[49m\n\u001b[32m    203\u001b[39m \u001b[43m    \u001b[49m\u001b[43mread_geometry\u001b[49m\u001b[43m=\u001b[49m\u001b[43mread_geometry\u001b[49m\u001b[43m,\u001b[49m\n\u001b[32m    204\u001b[39m \u001b[43m    \u001b[49m\u001b[43mforce_2d\u001b[49m\u001b[43m=\u001b[49m\u001b[43mforce_2d\u001b[49m\u001b[43m,\u001b[49m\n\u001b[32m    205\u001b[39m \u001b[43m    \u001b[49m\u001b[43mskip_features\u001b[49m\u001b[43m=\u001b[49m\u001b[43mskip_features\u001b[49m\u001b[43m,\u001b[49m\n\u001b[32m    206\u001b[39m \u001b[43m    \u001b[49m\u001b[43mmax_features\u001b[49m\u001b[43m=\u001b[49m\u001b[43mmax_features\u001b[49m\u001b[43m \u001b[49m\u001b[38;5;129;43;01mor\u001b[39;49;00m\u001b[43m \u001b[49m\u001b[32;43m0\u001b[39;49m\u001b[43m,\u001b[49m\n\u001b[32m    207\u001b[39m \u001b[43m    \u001b[49m\u001b[43mwhere\u001b[49m\u001b[43m=\u001b[49m\u001b[43mwhere\u001b[49m\u001b[43m,\u001b[49m\n\u001b[32m    208\u001b[39m \u001b[43m    \u001b[49m\u001b[43mbbox\u001b[49m\u001b[43m=\u001b[49m\u001b[43mbbox\u001b[49m\u001b[43m,\u001b[49m\n\u001b[32m    209\u001b[39m \u001b[43m    \u001b[49m\u001b[43mmask\u001b[49m\u001b[43m=\u001b[49m\u001b[43m_mask_to_wkb\u001b[49m\u001b[43m(\u001b[49m\u001b[43mmask\u001b[49m\u001b[43m)\u001b[49m\u001b[43m,\u001b[49m\n\u001b[32m    210\u001b[39m \u001b[43m    \u001b[49m\u001b[43mfids\u001b[49m\u001b[43m=\u001b[49m\u001b[43mfids\u001b[49m\u001b[43m,\u001b[49m\n\u001b[32m    211\u001b[39m \u001b[43m    \u001b[49m\u001b[43msql\u001b[49m\u001b[43m=\u001b[49m\u001b[43msql\u001b[49m\u001b[43m,\u001b[49m\n\u001b[32m    212\u001b[39m \u001b[43m    \u001b[49m\u001b[43msql_dialect\u001b[49m\u001b[43m=\u001b[49m\u001b[43msql_dialect\u001b[49m\u001b[43m,\u001b[49m\n\u001b[32m    213\u001b[39m \u001b[43m    \u001b[49m\u001b[43mreturn_fids\u001b[49m\u001b[43m=\u001b[49m\u001b[43mreturn_fids\u001b[49m\u001b[43m,\u001b[49m\n\u001b[32m    214\u001b[39m \u001b[43m    \u001b[49m\u001b[43mdataset_kwargs\u001b[49m\u001b[43m=\u001b[49m\u001b[43mdataset_kwargs\u001b[49m\u001b[43m,\u001b[49m\n\u001b[32m    215\u001b[39m \u001b[43m    \u001b[49m\u001b[43mdatetime_as_string\u001b[49m\u001b[43m=\u001b[49m\u001b[43mdatetime_as_string\u001b[49m\u001b[43m,\u001b[49m\n\u001b[32m    216\u001b[39m \u001b[43m\u001b[49m\u001b[43m)\u001b[49m\n",
      "\u001b[36mFile \u001b[39m\u001b[32mpyogrio/_io.pyx:1313\u001b[39m, in \u001b[36mpyogrio._io.ogr_read\u001b[39m\u001b[34m()\u001b[39m\n",
      "\u001b[36mFile \u001b[39m\u001b[32mpyogrio/_io.pyx:232\u001b[39m, in \u001b[36mpyogrio._io.ogr_open\u001b[39m\u001b[34m()\u001b[39m\n",
      "\u001b[31mDataSourceError\u001b[39m: id INSEE_DEP    PAYS LIBELLE_DEPARTEMENT  POPULATION  \\0    None        43  France         Haute-Loire      227570   1    None        65  France     Hautes-Pyrénées      229567   2    None        29  France           Finistère      915090   3    None        22  France       Côtes-d'Armor      600582   4    None        38  France               Isère     1271166   ..    ...       ...     ...                 ...         ...   100  None       971  France          Guadeloupe      384239   101  None       972  France          Martinique      364508   102  None       973  France              Guyane      281678   103  None       974  France          La Réunion      861210   104  None       976  France             Mayotte      256518                                  SOURCE  \\0    IGN:EXPRESS-COG-CARTO-TERRITOIRE   1    IGN:EXPRESS-COG-CARTO-TERRITOIRE   2    IGN:EXPRESS-COG-CARTO-TERRITOIRE   3    IGN:EXPRESS-COG-CARTO-TERRITOIRE   4    IGN:EXPRESS-COG-CARTO-TERRITOIRE   ..                                ...   100  IGN:EXPRESS-COG-CARTO-TERRITOIRE   101  IGN:EXPRESS-COG-CARTO-TERRITOIRE   102  IGN:EXPRESS-COG-CARTO-TERRITOIRE   103  IGN:EXPRESS-COG-CARTO-TERRITOIRE   104  IGN:EXPRESS-COG-CARTO-TERRITOIRE                                                 geometry  0    POLYGON ((3.89745 45.357, 3.89816 45.35682, 3....  1    MULTIPOLYGON (((-0.09706 43.5822, -0.09734 43....  2    MULTIPOLYGON (((-3.97906 47.70396, -3.97949 47...  3    MULTIPOLYGON (((-3.20175 48.85197, -3.20213 48...  4    POLYGON ((5.1015 45.81356, 5.10373 45.81392, 5...  ..                                                 ...  100  MULTIPOLYGON (((-4.64883 42.07408, -4.64826 42...  101  MULTIPOLYGON (((-2.67817 42.05178, -2.67831 42...  102  MULTIPOLYGON (((-0.8533 42.0536, -0.85235 42.0...  103  MULTIPOLYGON (((0.5171 41.79834, 0.51651 41.79...  104  MULTIPOLYGON (((1.16308 41.77052, 1.16196 41.7...  [105 rows x 7 columns]: File name too long"
     ]
    }
   ],
   "source": [
    "#On tente de faire une carte de france des équipements sportifs \n",
    "\n",
    "equipement = equipement.dropna(subset=[\"Longitude\", \"Latitude\"])\n",
    "\n",
    "gdf_pts = gpd.GeoDataFrame(\n",
    "    equipement,\n",
    "    geometry=gpd.points_from_xy(equipement[\"Longitude\"], equipement[\"Latitude\"]),\n",
    "    crs=\"EPSG:4326\"  # WGS84 (lat/lon)\n",
    ")\n",
    "\n",
    "shp_communes = carti_download(\n",
    "      values = [\"France\"],\n",
    "      crs = 4326,\n",
    "      borders = \"DEPARTEMENT\",\n",
    "      vectorfile_format=\"topojson\",\n",
    "      simplification=50,\n",
    "      filter_by=\"FRANCE_ENTIERE_DROM_RAPPROCHES\",\n",
    "      source=\"EXPRESS-COG-CARTO-TERRITOIRE\",\n",
    "      year=2022)\n",
    "\n"
   ]
  },
  {
   "cell_type": "code",
   "execution_count": null,
   "id": "1f474410-0f95-450c-b08b-882a955c8b56",
   "metadata": {},
   "outputs": [],
   "source": []
  },
  {
   "cell_type": "code",
   "execution_count": 65,
   "id": "3b8f7cd1-caad-45d7-8781-bd5117dc85b7",
   "metadata": {},
   "outputs": [
    {
     "data": {
      "text/plain": [
       "'# 1) Construire les paires (Voix i, Nuance liste i) réellement présentes\\npairs = [\\n    (f\"Voix {i}\", f\"Nuance liste {i}\")\\n    for i in range(1, 39)\\n    if f\"Voix {i}\" in df.columns and f\"Nuance liste {i}\" in df.columns\\n]\\nif not pairs:\\n    raise ValueError(\"Aucune paire \\'Voix i\\' / \\'Nuance liste i\\' trouvée dans les colonnes.\")\\n\\nvoix_cols   = [v for v, n in pairs]\\nnuance_cols = [n for v, n in pairs]\\n\\n# 2) Convertir les colonnes Voix en numérique\\nV = df[voix_cols].apply(pd.to_numeric, errors=\"coerce\")\\n\\n# 3) Trouver, par ligne, la position de la Voix max (en remplaçant NaN par -1 pour ne pas gagner)\\nV_filled = V.fillna(-1)\\npos_max = V_filled.to_numpy().argmax(axis=1)         # position de la colonne gagnante parmi voix_cols\\nvoix_max = V.max(axis=1)                             # valeur max réelle (NaN si toutes NaN)\\n\\n# 4) Récupérer la nuance à la même position\\nnuance_array = df[nuance_cols].to_numpy()\\nnuance_gagnante = nuance_array[np.arange(len(df)), pos_max]\\n\\n# (Optionnel) Colonnes d\\'identification de la commune si présentes\\nid_cols = [c for c in [\"Code commune\", \"Libellé commune\", \"Nom commune\", \"Commune\"] if c in df.columns]\\n\\n# 5) Résultat final\\nresultat = pd.DataFrame({\\n    **({c: df[c] for c in id_cols}),   # ajoute les colonnes d\\'identité si elles existent\\n    \"Voix_max\": voix_max,\\n    \"Nuance_gagnante\": nuance_gagnante\\n})\\n\\n\\n# Exemple d’aperçu\\nprint(resultat.head())\\n'"
      ]
     },
     "execution_count": 65,
     "metadata": {},
     "output_type": "execute_result"
    }
   ],
   "source": [
    "url2 = \"https://www.data.gouv.fr/api/1/datasets/r/6a782ef9-8ad6-4e66-832d-338b1041a42d\"\n",
    "elus = pd.read_csv(url2, sep = \";\", low_memory = False)\n",
    "\n",
    "\n",
    "\n",
    "\"\"\"# 1) Construire les paires (Voix i, Nuance liste i) réellement présentes\n",
    "pairs = [\n",
    "    (f\"Voix {i}\", f\"Nuance liste {i}\")\n",
    "    for i in range(1, 39)\n",
    "    if f\"Voix {i}\" in df.columns and f\"Nuance liste {i}\" in df.columns\n",
    "]\n",
    "if not pairs:\n",
    "    raise ValueError(\"Aucune paire 'Voix i' / 'Nuance liste i' trouvée dans les colonnes.\")\n",
    "\n",
    "voix_cols   = [v for v, n in pairs]\n",
    "nuance_cols = [n for v, n in pairs]\n",
    "\n",
    "# 2) Convertir les colonnes Voix en numérique\n",
    "V = df[voix_cols].apply(pd.to_numeric, errors=\"coerce\")\n",
    "\n",
    "# 3) Trouver, par ligne, la position de la Voix max (en remplaçant NaN par -1 pour ne pas gagner)\n",
    "V_filled = V.fillna(-1)\n",
    "pos_max = V_filled.to_numpy().argmax(axis=1)         # position de la colonne gagnante parmi voix_cols\n",
    "voix_max = V.max(axis=1)                             # valeur max réelle (NaN si toutes NaN)\n",
    "\n",
    "# 4) Récupérer la nuance à la même position\n",
    "nuance_array = df[nuance_cols].to_numpy()\n",
    "nuance_gagnante = nuance_array[np.arange(len(df)), pos_max]\n",
    "\n",
    "# (Optionnel) Colonnes d'identification de la commune si présentes\n",
    "id_cols = [c for c in [\"Code commune\", \"Libellé commune\", \"Nom commune\", \"Commune\"] if c in df.columns]\n",
    "\n",
    "# 5) Résultat final\n",
    "resultat = pd.DataFrame({\n",
    "    **({c: df[c] for c in id_cols}),   # ajoute les colonnes d'identité si elles existent\n",
    "    \"Voix_max\": voix_max,\n",
    "    \"Nuance_gagnante\": nuance_gagnante\n",
    "})\n",
    "\n",
    "\n",
    "# Exemple d’aperçu\n",
    "print(resultat.head())\n",
    "\"\"\""
   ]
  }
 ],
 "metadata": {
  "kernelspec": {
   "display_name": "Python 3 (ipykernel)",
   "language": "python",
   "name": "python3"
  },
  "language_info": {
   "codemirror_mode": {
    "name": "ipython",
    "version": 3
   },
   "file_extension": ".py",
   "mimetype": "text/x-python",
   "name": "python",
   "nbconvert_exporter": "python",
   "pygments_lexer": "ipython3",
   "version": "3.13.8"
  }
 },
 "nbformat": 4,
 "nbformat_minor": 5
}
