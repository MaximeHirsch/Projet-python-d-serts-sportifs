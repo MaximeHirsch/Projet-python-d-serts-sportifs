{
 "cells": [
  {
   "cell_type": "code",
   "execution_count": 23,
   "id": "f2678717-c3b0-445f-b657-b944d51d432c",
   "metadata": {},
   "outputs": [
    {
     "name": "stdout",
     "output_type": "stream",
     "text": [
      "Fichiers dans le ZIP :\n",
      "['base-ic-evol-struct-pop-2022.CSV', 'meta_base-ic-evol-struct-pop-2022.CSV']\n",
      "        IRIS    COM TYP_IRIS LAB_IRIS      P22_POP  P22_POP0002  P22_POP0305  \\\n",
      "0  010010000  01001        Z        5   859.000000    33.000000    28.000000   \n",
      "1  010020000  01002        Z        5   273.000000     6.000000    12.000000   \n",
      "2  010040101  01004        H        1  2057.937539    98.571487    56.977868   \n",
      "3  010040102  01004        H        1  3986.920098   147.358644   164.785678   \n",
      "4  010040201  01004        H        1  4520.666637   194.195739   196.752408   \n",
      "\n",
      "   P22_POP0610  P22_POP1117  P22_POP1824  ...  C22_F15P_STAT_GSEC14_24  \\\n",
      "0    56.000000    81.000000    30.000000  ...                44.177143   \n",
      "1    19.000000    34.000000    11.000000  ...                24.818182   \n",
      "2   139.534470   174.716876   352.838927  ...                91.718672   \n",
      "3   239.997491   358.323293   418.123741  ...               212.408021   \n",
      "4   281.247669   376.641507   378.855321  ...               356.149732   \n",
      "\n",
      "   C22_F15P_STAT_GSEC15_25  C22_F15P_STAT_GSEC16_26  C22_F15P_STAT_GSEC32  \\\n",
      "0                83.445714                29.451429             88.354286   \n",
      "1                14.890909                 4.963636             24.818182   \n",
      "2               276.808212                53.269481            211.569253   \n",
      "3               415.766092               146.090052            356.309707   \n",
      "4               508.642655               165.866837            691.215336   \n",
      "\n",
      "   C22_F15P_STAT_GSEC40   P22_POP_FR  P22_POP_ETR  P22_POP_IMM     P22_PMEN  \\\n",
      "0             29.451429   849.000000    10.000000    19.000000   859.000000   \n",
      "1              4.963636   272.000000     1.000000     3.000000   273.000000   \n",
      "2            130.462435  1767.609911   290.327628   247.897397  1694.944143   \n",
      "3            323.247325  3353.940535   632.979564   772.537275  3986.920098   \n",
      "4            346.153660  4115.886111   404.780526   442.331955  4432.668238   \n",
      "\n",
      "   P22_PHORMEN  \n",
      "0     0.000000  \n",
      "1     0.000000  \n",
      "2   362.993396  \n",
      "3     0.000000  \n",
      "4    87.998399  \n",
      "\n",
      "[5 rows x 76 columns]\n"
     ]
    }
   ],
   "source": [
    "import numpy as np\n",
    "import numpy.linalg as al\n",
    "import matplotlib.pyplot as plt \n",
    "import pandas as pd\n",
    "import requests\n",
    "import zipfile as z\n",
    "import io\n",
    "\n",
    "# Étape 1 : Télécharger le fichier ZIP depuis l'URL\n",
    "urlpop = \"https://www.insee.fr/fr/statistiques/fichier/8647014/base-ic-evol-struct-pop-2022_csv.zip\"\n",
    "response = requests.get(urlpop)\n",
    "\n",
    "# Étape 2 : Ouvrir le fichier ZIP en mémoire\n",
    "with zipfile.ZipFile(io.BytesIO(response.content)) as z:\n",
    "    # Liste des fichiers contenus dans l’archive ZIP\n",
    "    print(\"Fichiers dans le ZIP :\")\n",
    "    print(z.namelist())\n",
    "\n",
    "    # Étape 3 : Lire directement un des fichiers CSV dans le ZIP\n",
    "    # ⚠️ Choisissez le nom correct d'après la liste imprimée ci-dessus\n",
    "    with z.open(\"base-ic-evol-struct-pop-2022.CSV\") as csvfile:\n",
    "        df = pd.read_csv(csvfile, sep=\";\", low_memory=False)\n",
    "\n",
    "# Vérification\n",
    "print(df.head())"
   ]
  },
  {
   "cell_type": "code",
   "execution_count": 37,
   "id": "464597d0-4344-49dc-83e2-688956d306f7",
   "metadata": {},
   "outputs": [
    {
     "name": "stdout",
     "output_type": "stream",
     "text": [
      "﻿EXER;IDENT;NDEPT;LBUDG;INSEE;CBUDG;CTYPE;CSTYP;NOMEN;siren;CREGI;CACTI;SECTEUR;FINESS;CODBUD1;CATEG;BAL;COMPTE;BEDEB;BECRE;OBNETDEB;OBNETCRE;ONBDEB;ONBCRE;OOBDEB;OOBCRE;SD;SC\n",
      "2021;21330312600014;033;PAREMPUYRE;312;1;101;00;M14;213303126;075;40;;;;Commune;DEF;2113;1473983.27;0.0;0.0;21.28;0.0;0.0;0.0;21.28;1473961.99;0.0\n",
      "2021;21330162500017;033;EYSINES;162;1;101;00;M14;213301625;075;40;;;;Commune;DEF;74718;0.0;0.0;0.0;82065.32;0.0;0.0;0.0;0.0;0.0;82065.32\n",
      "2021;21390365100015;039;MONT-SOUS-V\n",
      "  EXER;IDENT;NDEPT;LBUDG;INSEE;CBUDG;CTYPE;CSTYP;NOMEN;siren;CREGI;CACTI;SECTEUR;FINESS;CODBUD1;CATEG;BAL;COMPTE;BEDEB;BECRE;OBNETDEB;OBNETCRE;ONBDEB;ONBCRE;OOBDEB;OOBCRE;SD;SC\n",
      "0  2021;21330312600014;033;PAREMPUYRE;312;1;101;0...                                                                                                                            \n",
      "1  2021;21330162500017;033;EYSINES;162;1;101;00;M...                                                                                                                            \n",
      "2  2021;21390365100015;039;MONT-SOUS-VAUDREY;365;...                                                                                                                            \n",
      "3  2021;21390370100018;039;MOUCHARD;370;1;101;00;...                                                                                                                            \n",
      "4  2021;21390377600010;039;MUTIGNEY;377;1;101;00;...                                                                                                                            \n"
     ]
    }
   ],
   "source": [
    "import requests\n",
    "import pandas as pd\n",
    "import zipfile\n",
    "import io\n",
    "\n",
    "# Étape 1. URL directe du fichier (à remplacer par la bonne URL CSV ou ZIP)\n",
    "url_direct = \"https://www.data.gouv.fr/api/1/datasets/r/577492cd-0f7d-4b3d-86c0-a9f43e55da3c\"  \n",
    "# (Cette URL /r/… est souvent le lien direct au fichier dans data.gouv)\n",
    "\n",
    "resp = requests.get(url_direct, timeout=60)\n",
    "resp.raise_for_status()\n",
    "\n",
    "# On peut examiner les premiers bytes pour comprendre le format\n",
    "start = resp.content[:500].decode('utf-8', errors='ignore')\n",
    "print(start)  # pour voir s’il y a des virgules, point-virgules, ou entête ZIP\n",
    "\n",
    "# Si c’est un ZIP (on reconnaît ça parce que les premiers bytes contiennent le \"magic header\" PK…)\n",
    "if resp.content.startswith(b'PK'):\n",
    "    with zipfile.ZipFile(io.BytesIO(resp.content)) as z:\n",
    "        print(\"Contenu du ZIP :\", z.namelist())\n",
    "        nom_csv = z.namelist()[0]\n",
    "        with z.open(nom_csv) as f:\n",
    "            df = pd.read_csv(f, sep=\",\", low_memory=False)  # ou le sep correct selon inspection\n",
    "else:\n",
    "    # Sinon, c’est probablement un CSV direct\n",
    "    df = pd.read_csv(io.StringIO(resp.text), sep=\",\", low_memory=False)  # ou “;” selon besoin\n",
    "\n",
    "print(df.head())\n"
   ]
  },
  {
   "cell_type": "code",
   "execution_count": null,
   "id": "25a87381-88c2-4ef6-9683-2e0de528d9b5",
   "metadata": {},
   "outputs": [],
   "source": []
  }
 ],
 "metadata": {
  "kernelspec": {
   "display_name": "Python 3 (ipykernel)",
   "language": "python",
   "name": "python3"
  },
  "language_info": {
   "codemirror_mode": {
    "name": "ipython",
    "version": 3
   },
   "file_extension": ".py",
   "mimetype": "text/x-python",
   "name": "python",
   "nbconvert_exporter": "python",
   "pygments_lexer": "ipython3",
   "version": "3.13.8"
  }
 },
 "nbformat": 4,
 "nbformat_minor": 5
}
